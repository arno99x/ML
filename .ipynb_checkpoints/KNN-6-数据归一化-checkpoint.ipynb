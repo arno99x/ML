{
 "cells": [
  {
   "cell_type": "markdown",
   "metadata": {},
   "source": [
    "# 数据归一化 Feature Scaling\n",
    "\n",
    "##### 举例： 病例A ： 肿瘤大小为1， 发现时间为200天\n",
    "#####             病例B ： 肿瘤大小为5，发现时间为100天\n",
    "##### 这时计算两两个元素的距离时，因为天数据的值比较大，所以占距了主导地位，而肿瘤大小相应权重就变小了\n",
    "\n",
    "### 解决方法\n",
    "##### 方法一 ： 最值归一化\n",
    "##### 所谓最值归一化就是把数据矩阵中的最大值减去最小值为域， 各元素取值为 （元素值-最小值）/ （最大值-最小值）， 这样就把所有的值固定在0-1之间\n",
    "##### 缺点 对有明显边界的数据比较好用，但是对数据差异较大的就数据用这种方法就不太好，比如A月收入为2000万元，由于A的存在，其它人的数据都被映射的很小，所以归一化的值就不够理想\n",
    "\n",
    "##### 方法二 ：均值方差归一化 standardization\n",
    "##### 把所有的数据归一到均值为0方差为1的分布中，计算方式：特征值 - 特征均值 / 特征对应的方差 \n",
    "##### 对于存在极端值的数据比较有效，如上面说的A月收为200万\n"
   ]
  },
  {
   "cell_type": "markdown",
   "metadata": {},
   "source": [
    "## 最值归一化处理方式"
   ]
  },
  {
   "cell_type": "code",
   "execution_count": 16,
   "metadata": {},
   "outputs": [],
   "source": [
    "import numpy as np\n",
    "import matplotlib.pyplot as plt"
   ]
  },
  {
   "cell_type": "code",
   "execution_count": 17,
   "metadata": {},
   "outputs": [
    {
     "data": {
      "text/plain": [
       "array([56,  3, 93, 38, 67, 70, 44, 20, 93, 43, 97,  5, 95,  1,  0, 17, 97,\n",
       "       12, 98, 17, 41, 31, 97, 92, 86,  7, 71, 11, 74, 48, 81,  5, 65, 44,\n",
       "       33, 90, 66, 67, 68, 96, 51, 39, 29, 14, 58, 82, 21, 62, 63, 97, 86,\n",
       "       66, 60, 87, 99, 11, 19, 56, 82, 17, 85, 39, 14, 94, 74, 45, 73,  3,\n",
       "       37,  7,  3, 55, 60,  1, 73,  3, 28, 18, 96, 13, 94, 81, 93, 82,  7,\n",
       "       38, 59, 99, 20, 92, 22, 82, 54, 30, 32,  0, 73, 57, 66, 86])"
      ]
     },
     "execution_count": 17,
     "metadata": {},
     "output_type": "execute_result"
    }
   ],
   "source": [
    "x = np.random.randint(0,100,size=100)\n",
    "x"
   ]
  },
  {
   "cell_type": "code",
   "execution_count": 18,
   "metadata": {},
   "outputs": [
    {
     "data": {
      "text/plain": [
       "array([0.56565657, 0.03030303, 0.93939394, 0.38383838, 0.67676768,\n",
       "       0.70707071, 0.44444444, 0.2020202 , 0.93939394, 0.43434343,\n",
       "       0.97979798, 0.05050505, 0.95959596, 0.01010101, 0.        ,\n",
       "       0.17171717, 0.97979798, 0.12121212, 0.98989899, 0.17171717,\n",
       "       0.41414141, 0.31313131, 0.97979798, 0.92929293, 0.86868687,\n",
       "       0.07070707, 0.71717172, 0.11111111, 0.74747475, 0.48484848,\n",
       "       0.81818182, 0.05050505, 0.65656566, 0.44444444, 0.33333333,\n",
       "       0.90909091, 0.66666667, 0.67676768, 0.68686869, 0.96969697,\n",
       "       0.51515152, 0.39393939, 0.29292929, 0.14141414, 0.58585859,\n",
       "       0.82828283, 0.21212121, 0.62626263, 0.63636364, 0.97979798,\n",
       "       0.86868687, 0.66666667, 0.60606061, 0.87878788, 1.        ,\n",
       "       0.11111111, 0.19191919, 0.56565657, 0.82828283, 0.17171717,\n",
       "       0.85858586, 0.39393939, 0.14141414, 0.94949495, 0.74747475,\n",
       "       0.45454545, 0.73737374, 0.03030303, 0.37373737, 0.07070707,\n",
       "       0.03030303, 0.55555556, 0.60606061, 0.01010101, 0.73737374,\n",
       "       0.03030303, 0.28282828, 0.18181818, 0.96969697, 0.13131313,\n",
       "       0.94949495, 0.81818182, 0.93939394, 0.82828283, 0.07070707,\n",
       "       0.38383838, 0.5959596 , 1.        , 0.2020202 , 0.92929293,\n",
       "       0.22222222, 0.82828283, 0.54545455, 0.3030303 , 0.32323232,\n",
       "       0.        , 0.73737374, 0.57575758, 0.66666667, 0.86868687])"
      ]
     },
     "execution_count": 18,
     "metadata": {},
     "output_type": "execute_result"
    }
   ],
   "source": [
    "(x - np.min(x))/(np.max(x) - np.min(x))"
   ]
  },
  {
   "cell_type": "code",
   "execution_count": 19,
   "metadata": {},
   "outputs": [
    {
     "data": {
      "text/plain": [
       "array([[55, 24],\n",
       "       [15, 18],\n",
       "       [18, 67],\n",
       "       [94, 25],\n",
       "       [84, 12],\n",
       "       [55, 74],\n",
       "       [10, 53],\n",
       "       [36, 82],\n",
       "       [13, 41],\n",
       "       [24, 11]])"
      ]
     },
     "execution_count": 19,
     "metadata": {},
     "output_type": "execute_result"
    }
   ],
   "source": [
    "X = np.random.randint(0,100,(50,2))\n",
    "X[:10,:]"
   ]
  },
  {
   "cell_type": "code",
   "execution_count": 20,
   "metadata": {},
   "outputs": [
    {
     "data": {
      "text/plain": [
       "array([[55., 24.],\n",
       "       [15., 18.],\n",
       "       [18., 67.],\n",
       "       [94., 25.],\n",
       "       [84., 12.],\n",
       "       [55., 74.],\n",
       "       [10., 53.],\n",
       "       [36., 82.],\n",
       "       [13., 41.],\n",
       "       [24., 11.]])"
      ]
     },
     "execution_count": 20,
     "metadata": {},
     "output_type": "execute_result"
    }
   ],
   "source": [
    "X = np.array(X,dtype=float)\n",
    "X[:10,:]"
   ]
  },
  {
   "cell_type": "code",
   "execution_count": 21,
   "metadata": {},
   "outputs": [],
   "source": [
    "X[:,0] = (X[:,0]- np.min(X[:,0]))/ (np.max(X[:,0])-np.min(X[:,0]))\n",
    "X[:,1] = (X[:,1]- np.min(X[:,1]))/ (np.max(X[:,1])-np.min(X[:,1]))"
   ]
  },
  {
   "cell_type": "code",
   "execution_count": 22,
   "metadata": {},
   "outputs": [
    {
     "data": {
      "text/plain": [
       "array([[0.54639175, 0.24242424],\n",
       "       [0.13402062, 0.18181818],\n",
       "       [0.16494845, 0.67676768],\n",
       "       [0.94845361, 0.25252525],\n",
       "       [0.84536082, 0.12121212],\n",
       "       [0.54639175, 0.74747475],\n",
       "       [0.08247423, 0.53535354],\n",
       "       [0.35051546, 0.82828283],\n",
       "       [0.11340206, 0.41414141],\n",
       "       [0.22680412, 0.11111111]])"
      ]
     },
     "execution_count": 22,
     "metadata": {},
     "output_type": "execute_result"
    }
   ],
   "source": [
    "X[:10,:]"
   ]
  },
  {
   "cell_type": "code",
   "execution_count": 24,
   "metadata": {},
   "outputs": [
    {
     "data": {
      "text/plain": [
       "<matplotlib.collections.PathCollection at 0x117f5b940>"
      ]
     },
     "execution_count": 24,
     "metadata": {},
     "output_type": "execute_result"
    },
    {
     "data": {
      "image/png": "[encoded data removed]",
      "text/plain": [
       "<Figure size 432x288 with 1 Axes>"
      ]
     },
     "metadata": {},
     "output_type": "display_data"
    }
   ],
   "source": [
    "plt.scatter(X[:,0],X[:,1])"
   ]
  },
  {
   "cell_type": "markdown",
   "metadata": {},
   "source": [
    "## 均值方差归一化处理方式"
   ]
  },
  {
   "cell_type": "code",
   "execution_count": 42,
   "metadata": {},
   "outputs": [
    {
     "data": {
      "text/plain": [
       "array([70., 13., 46.,  3., 71., 26.,  8., 66.,  2., 61.])"
      ]
     },
     "execution_count": 42,
     "metadata": {},
     "output_type": "execute_result"
    }
   ],
   "source": [
    "X2 = np.random.randint(0,100,(50,2))\n",
    "X2 = np.array(X2,dtype=float)\n",
    "X2[:10,0]"
   ]
  },
  {
   "cell_type": "code",
   "execution_count": 43,
   "metadata": {},
   "outputs": [
    {
     "data": {
      "text/plain": [
       "45.92"
      ]
     },
     "execution_count": 43,
     "metadata": {},
     "output_type": "execute_result"
    }
   ],
   "source": [
    "## 0列平均值\n",
    "np.mean(X2[:,0])"
   ]
  },
  {
   "cell_type": "code",
   "execution_count": 44,
   "metadata": {},
   "outputs": [
    {
     "data": {
      "text/plain": [
       "30.270672275322855"
      ]
     },
     "execution_count": 44,
     "metadata": {},
     "output_type": "execute_result"
    }
   ],
   "source": [
    "## 0列方差\n",
    "np.std(X2[:,0])"
   ]
  },
  {
   "cell_type": "code",
   "execution_count": 45,
   "metadata": {},
   "outputs": [
    {
     "data": {
      "text/plain": [
       "49.68"
      ]
     },
     "execution_count": 45,
     "metadata": {},
     "output_type": "execute_result"
    }
   ],
   "source": [
    "## 1列平均值\n",
    "np.mean(X2[:,1])"
   ]
  },
  {
   "cell_type": "code",
   "execution_count": 46,
   "metadata": {},
   "outputs": [
    {
     "data": {
      "text/plain": [
       "29.629336813367928"
      ]
     },
     "execution_count": 46,
     "metadata": {},
     "output_type": "execute_result"
    }
   ],
   "source": [
    "## 1列方差\n",
    "np.std(X2[:,1])"
   ]
  },
  {
   "cell_type": "code",
   "execution_count": 47,
   "metadata": {},
   "outputs": [],
   "source": [
    "X2[:,0] = (X2[:,0] - np.mean(X2[:,0])) / np.std(X2[:,0])"
   ]
  },
  {
   "cell_type": "code",
   "execution_count": 48,
   "metadata": {},
   "outputs": [],
   "source": [
    "X2[:,1] = (X2[:,1] - np.mean(X2[:,1])) / np.std(X2[:,1])"
   ]
  },
  {
   "cell_type": "code",
   "execution_count": 49,
   "metadata": {},
   "outputs": [
    {
     "data": {
      "text/plain": [
       "array([[ 0.79548944, -1.0017099 ],\n",
       "       [-1.08752127,  1.29331278],\n",
       "       [ 0.00264282,  1.66456645],\n",
       "       [-1.41787403, -1.5079649 ],\n",
       "       [ 0.82852471,  0.44955444],\n",
       "       [-0.65806269,  1.02331011],\n",
       "       [-1.25269765,  0.98955978],\n",
       "       [ 0.66334833,  1.25956245],\n",
       "       [-1.4509093 , -0.22545223],\n",
       "       [ 0.49817196,  0.82080811]])"
      ]
     },
     "execution_count": 49,
     "metadata": {},
     "output_type": "execute_result"
    }
   ],
   "source": [
    "X2[:10,:]"
   ]
  },
  {
   "cell_type": "code",
   "execution_count": 51,
   "metadata": {},
   "outputs": [
    {
     "data": {
      "text/plain": [
       "<matplotlib.collections.PathCollection at 0x1185b4f28>"
      ]
     },
     "execution_count": 51,
     "metadata": {},
     "output_type": "execute_result"
    },
    {
     "data": {
      "image/png": "[encoded data removed]",
      "text/plain": [
       "<Figure size 432x288 with 1 Axes>"
      ]
     },
     "metadata": {},
     "output_type": "display_data"
    }
   ],
   "source": [
    "plt.scatter(X2[:,0],X2[:,1])"
   ]
  },
  {
   "cell_type": "code",
   "execution_count": 58,
   "metadata": {},
   "outputs": [
    {
     "data": {
      "text/plain": [
       "-4.884981308350689e-17"
      ]
     },
     "execution_count": 58,
     "metadata": {},
     "output_type": "execute_result"
    }
   ],
   "source": [
    "np.mean(X2[:,0])"
   ]
  },
  {
   "cell_type": "code",
   "execution_count": null,
   "metadata": {},
   "outputs": [],
   "source": []
  },
  {
   "cell_type": "code",
   "execution_count": 55,
   "metadata": {},
   "outputs": [
    {
     "data": {
      "text/plain": [
       "1.0"
      ]
     },
     "execution_count": 55,
     "metadata": {},
     "output_type": "execute_result"
    }
   ],
   "source": [
    "np.std(X2[:,0])"
   ]
  },
  {
   "cell_type": "code",
   "execution_count": 56,
   "metadata": {},
   "outputs": [
    {
     "data": {
      "text/plain": [
       "-9.298117831235687e-18"
      ]
     },
     "execution_count": 56,
     "metadata": {},
     "output_type": "execute_result"
    }
   ],
   "source": [
    "np.mean(X2[:,1])"
   ]
  },
  {
   "cell_type": "code",
   "execution_count": 57,
   "metadata": {},
   "outputs": [
    {
     "data": {
      "text/plain": [
       "1.0"
      ]
     },
     "execution_count": 57,
     "metadata": {},
     "output_type": "execute_result"
    }
   ],
   "source": [
    "np.std(X2[:,1])"
   ]
  }
 ],
 "metadata": {
  "kernelspec": {
   "display_name": "Python 3",
   "language": "python",
   "name": "python3"
  },
  "language_info": {
   "codemirror_mode": {
    "name": "ipython",
    "version": 3
   },
   "file_extension": ".py",
   "mimetype": "text/x-python",
   "name": "python",
   "nbconvert_exporter": "python",
   "pygments_lexer": "ipython3",
   "version": "3.6.5"
  }
 },
 "nbformat": 4,
 "nbformat_minor": 2
}
