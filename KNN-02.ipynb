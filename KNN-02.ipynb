{
 "cells": [
  {
   "cell_type": "markdown",
   "metadata": {},
   "source": [
    "### 测试我们的算法"
   ]
  },
  {
   "cell_type": "code",
   "execution_count": 4,
   "metadata": {},
   "outputs": [],
   "source": [
    "import numpy as np\n",
    "import matplotlib.pyplot as plt\n",
    "from sklearn import datasets"
   ]
  },
  {
   "cell_type": "code",
   "execution_count": 5,
   "metadata": {},
   "outputs": [],
   "source": [
    "iris = datasets.load_iris()"
   ]
  },
  {
   "cell_type": "code",
   "execution_count": 6,
   "metadata": {},
   "outputs": [],
   "source": [
    "X = iris.data\n",
    "y = iris.target"
   ]
  },
  {
   "cell_type": "code",
   "execution_count": 7,
   "metadata": {},
   "outputs": [
    {
     "data": {
      "text/plain": [
       "(150, 4)"
      ]
     },
     "execution_count": 7,
     "metadata": {},
     "output_type": "execute_result"
    }
   ],
   "source": [
    "X.shape"
   ]
  },
  {
   "cell_type": "code",
   "execution_count": 8,
   "metadata": {},
   "outputs": [
    {
     "data": {
      "text/plain": [
       "(150,)"
      ]
     },
     "execution_count": 8,
     "metadata": {},
     "output_type": "execute_result"
    }
   ],
   "source": [
    "y.shape"
   ]
  },
  {
   "cell_type": "markdown",
   "metadata": {},
   "source": [
    "### 训练测试数据集分离（train_test_split）"
   ]
  },
  {
   "cell_type": "code",
   "execution_count": 9,
   "metadata": {},
   "outputs": [
    {
     "data": {
      "text/plain": [
       "array([0, 0, 0, 0, 0, 0, 0, 0, 0, 0, 0, 0, 0, 0, 0, 0, 0, 0, 0, 0, 0, 0,\n",
       "       0, 0, 0, 0, 0, 0, 0, 0, 0, 0, 0, 0, 0, 0, 0, 0, 0, 0, 0, 0, 0, 0,\n",
       "       0, 0, 0, 0, 0, 0, 1, 1, 1, 1, 1, 1, 1, 1, 1, 1, 1, 1, 1, 1, 1, 1,\n",
       "       1, 1, 1, 1, 1, 1, 1, 1, 1, 1, 1, 1, 1, 1, 1, 1, 1, 1, 1, 1, 1, 1,\n",
       "       1, 1, 1, 1, 1, 1, 1, 1, 1, 1, 1, 1, 2, 2, 2, 2, 2, 2, 2, 2, 2, 2,\n",
       "       2, 2, 2, 2, 2, 2, 2, 2, 2, 2, 2, 2, 2, 2, 2, 2, 2, 2, 2, 2, 2, 2,\n",
       "       2, 2, 2, 2, 2, 2, 2, 2, 2, 2, 2, 2, 2, 2, 2, 2, 2, 2])"
      ]
     },
     "execution_count": 9,
     "metadata": {},
     "output_type": "execute_result"
    }
   ],
   "source": [
    "# 拆分训练数据集，部分数据做为训练数据集，部分数据做为测试数据集\n",
    "# 但是y可能是按照结果排好序的，如果取前50个可能会出现结果都是一样的数据集\n",
    "y"
   ]
  },
  {
   "cell_type": "code",
   "execution_count": 10,
   "metadata": {},
   "outputs": [],
   "source": [
    "# 思路1：先把y乱序，再取前50个\n",
    "#     但这样是不行的，原因是X与y的index是对应的，如果把X与y分别乱序后就对应不上了\n",
    "# 思路2：把X与y先合并再一起，并为一个矩阵，然后再乱续，再取训练集 （可复习一下numpy的知识点）\n",
    "# 思路3：对X索引进行乱序处理，然后再取出y中的相应索引\n",
    "\n"
   ]
  },
  {
   "cell_type": "code",
   "execution_count": 19,
   "metadata": {},
   "outputs": [
    {
     "name": "stdout",
     "output_type": "stream",
     "text": [
      "(120, 4)\n",
      "(120,)\n",
      "(30, 4)\n",
      "(30,)\n"
     ]
    }
   ],
   "source": [
    "# 思路3 实现\n",
    "## step1 : 取0-len(X)范围的随机数\n",
    "shuffle_index = np.random.permutation(len(X))\n",
    "shuffle_index\n",
    "## step2 : 设置测试数据集为20%\n",
    "test_ratio = 0.2\n",
    "test_size = int(len(X)*test_ratio)\n",
    "## step3 : 取后20%个元素做为测试数据集的index ; 前80%个元素做为训练数据集\n",
    "test_index = shuffle_index[:test_size]\n",
    "train_index = shuffle_index[test_size:]\n",
    "## step4 : 获取训练数据集\n",
    "X_train = X[train_index]\n",
    "y_train = y[train_index]\n",
    "## step5 : 获取测试数据集\n",
    "X_test = X[test_index]\n",
    "y_test = y[test_index]\n",
    "\n",
    "print(X_train.shape)\n",
    "print(y_train.shape)\n",
    "print(X_test.shape)\n",
    "print(y_test.shape)\n",
    "\n",
    "## "
   ]
  },
  {
   "cell_type": "markdown",
   "metadata": {},
   "source": [
    "### 使用封装好的上面的代码"
   ]
  },
  {
   "cell_type": "code",
   "execution_count": 21,
   "metadata": {},
   "outputs": [],
   "source": [
    "from MachineLearning.script.model_selection import train_test_split"
   ]
  },
  {
   "cell_type": "code",
   "execution_count": 24,
   "metadata": {},
   "outputs": [
    {
     "name": "stdout",
     "output_type": "stream",
     "text": [
      "(120, 4)\n",
      "(120,)\n",
      "(30, 4)\n",
      "(30,)\n"
     ]
    },
    {
     "data": {
      "text/plain": [
       "array([[6.7, 3. , 5. , 1.7],\n",
       "       [6.3, 2.5, 4.9, 1.5],\n",
       "       [5.7, 2.8, 4.1, 1.3],\n",
       "       [4.6, 3.2, 1.4, 0.2],\n",
       "       [4.9, 3. , 1.4, 0.2],\n",
       "       [5.5, 2.3, 4. , 1.3],\n",
       "       [6.3, 3.3, 4.7, 1.6],\n",
       "       [6.7, 3.1, 4.4, 1.4],\n",
       "       [5.1, 3.5, 1.4, 0.2],\n",
       "       [5.4, 3.4, 1.5, 0.4],\n",
       "       [5. , 3.3, 1.4, 0.2],\n",
       "       [4.6, 3.4, 1.4, 0.3],\n",
       "       [5.8, 2.6, 4. , 1.2],\n",
       "       [6. , 2.7, 5.1, 1.6],\n",
       "       [4.9, 3.1, 1.5, 0.1],\n",
       "       [6.7, 3.1, 4.7, 1.5],\n",
       "       [4.6, 3.6, 1. , 0.2],\n",
       "       [5.3, 3.7, 1.5, 0.2],\n",
       "       [6.4, 3.2, 5.3, 2.3],\n",
       "       [4.9, 3.1, 1.5, 0.1],\n",
       "       [5.7, 2.8, 4.5, 1.3],\n",
       "       [7.3, 2.9, 6.3, 1.8],\n",
       "       [4.9, 2.4, 3.3, 1. ],\n",
       "       [6.7, 2.5, 5.8, 1.8],\n",
       "       [4.4, 2.9, 1.4, 0.2],\n",
       "       [6.9, 3.1, 4.9, 1.5],\n",
       "       [4.8, 3. , 1.4, 0.3],\n",
       "       [6.1, 2.8, 4.7, 1.2],\n",
       "       [6.3, 2.9, 5.6, 1.8],\n",
       "       [5. , 2.3, 3.3, 1. ],\n",
       "       [4.8, 3.1, 1.6, 0.2],\n",
       "       [7.4, 2.8, 6.1, 1.9],\n",
       "       [7.7, 3.8, 6.7, 2.2],\n",
       "       [5.5, 4.2, 1.4, 0.2],\n",
       "       [4.8, 3.4, 1.9, 0.2],\n",
       "       [5.5, 3.5, 1.3, 0.2],\n",
       "       [5.6, 3. , 4.5, 1.5],\n",
       "       [6.5, 3. , 5.8, 2.2],\n",
       "       [5.1, 3.8, 1.5, 0.3],\n",
       "       [5. , 3.2, 1.2, 0.2],\n",
       "       [6. , 2.9, 4.5, 1.5],\n",
       "       [7.7, 3. , 6.1, 2.3],\n",
       "       [6.3, 2.8, 5.1, 1.5],\n",
       "       [6.7, 3. , 5.2, 2.3],\n",
       "       [5.8, 2.7, 5.1, 1.9],\n",
       "       [6.5, 3. , 5.2, 2. ],\n",
       "       [5.6, 2.5, 3.9, 1.1],\n",
       "       [7.2, 3. , 5.8, 1.6],\n",
       "       [6. , 3.4, 4.5, 1.6],\n",
       "       [5. , 3.5, 1.3, 0.3],\n",
       "       [7.7, 2.8, 6.7, 2. ],\n",
       "       [5.4, 3.9, 1.7, 0.4],\n",
       "       [7. , 3.2, 4.7, 1.4],\n",
       "       [6.5, 3.2, 5.1, 2. ],\n",
       "       [6.5, 2.8, 4.6, 1.5],\n",
       "       [5. , 3.6, 1.4, 0.2],\n",
       "       [5. , 3. , 1.6, 0.2],\n",
       "       [6.4, 2.7, 5.3, 1.9],\n",
       "       [5.1, 3.4, 1.5, 0.2],\n",
       "       [6.7, 3.1, 5.6, 2.4],\n",
       "       [6.3, 3.4, 5.6, 2.4],\n",
       "       [7.6, 3. , 6.6, 2.1],\n",
       "       [5.7, 2.6, 3.5, 1. ],\n",
       "       [6.3, 3.3, 6. , 2.5],\n",
       "       [5.1, 3.8, 1.9, 0.4],\n",
       "       [7.2, 3.6, 6.1, 2.5],\n",
       "       [4.6, 3.1, 1.5, 0.2],\n",
       "       [6.6, 2.9, 4.6, 1.3],\n",
       "       [5. , 3.4, 1.6, 0.4],\n",
       "       [6.6, 3. , 4.4, 1.4],\n",
       "       [5.7, 4.4, 1.5, 0.4],\n",
       "       [5.8, 2.7, 5.1, 1.9],\n",
       "       [6.3, 2.7, 4.9, 1.8],\n",
       "       [5.4, 3. , 4.5, 1.5],\n",
       "       [6.1, 2.8, 4. , 1.3],\n",
       "       [4.7, 3.2, 1.6, 0.2],\n",
       "       [6.8, 3.2, 5.9, 2.3],\n",
       "       [6. , 3. , 4.8, 1.8],\n",
       "       [6.1, 2.9, 4.7, 1.4],\n",
       "       [6.1, 2.6, 5.6, 1.4],\n",
       "       [5.1, 3.7, 1.5, 0.4],\n",
       "       [5.1, 3.8, 1.6, 0.2],\n",
       "       [5.7, 3. , 4.2, 1.2],\n",
       "       [4.9, 3.1, 1.5, 0.1],\n",
       "       [4.8, 3. , 1.4, 0.1],\n",
       "       [5.7, 3.8, 1.7, 0.3],\n",
       "       [6.2, 2.2, 4.5, 1.5],\n",
       "       [5.5, 2.6, 4.4, 1.2],\n",
       "       [4.7, 3.2, 1.3, 0.2],\n",
       "       [6.4, 2.8, 5.6, 2.2],\n",
       "       [6.4, 3.2, 4.5, 1.5],\n",
       "       [5.7, 2.9, 4.2, 1.3],\n",
       "       [5.6, 2.8, 4.9, 2. ],\n",
       "       [5.5, 2.5, 4. , 1.3],\n",
       "       [5.2, 2.7, 3.9, 1.4],\n",
       "       [6.2, 2.9, 4.3, 1.3],\n",
       "       [4.3, 3. , 1.1, 0.1],\n",
       "       [5.8, 2.7, 4.1, 1. ],\n",
       "       [5.2, 3.4, 1.4, 0.2],\n",
       "       [5. , 3.5, 1.6, 0.6],\n",
       "       [7.7, 2.6, 6.9, 2.3],\n",
       "       [5.8, 2.8, 5.1, 2.4],\n",
       "       [6. , 2.2, 5. , 1.5],\n",
       "       [6.9, 3.1, 5.4, 2.1],\n",
       "       [6.3, 2.3, 4.4, 1.3],\n",
       "       [6.4, 2.9, 4.3, 1.3],\n",
       "       [6.8, 3. , 5.5, 2.1],\n",
       "       [5.2, 3.5, 1.5, 0.2],\n",
       "       [5.4, 3.7, 1.5, 0.2],\n",
       "       [5.4, 3.9, 1.3, 0.4],\n",
       "       [6.5, 3. , 5.5, 1.8],\n",
       "       [4.5, 2.3, 1.3, 0.3],\n",
       "       [6.7, 3.3, 5.7, 2.5],\n",
       "       [6.9, 3.2, 5.7, 2.3],\n",
       "       [5.2, 4.1, 1.5, 0.1],\n",
       "       [6. , 2.2, 4. , 1. ],\n",
       "       [6.1, 3. , 4.6, 1.4],\n",
       "       [5.6, 2.7, 4.2, 1.3],\n",
       "       [6.2, 2.8, 4.8, 1.8],\n",
       "       [5.8, 4. , 1.2, 0.2]])"
      ]
     },
     "execution_count": 24,
     "metadata": {},
     "output_type": "execute_result"
    }
   ],
   "source": [
    "_X_train,_y_train,_X_test,_y_test = train_test_split(X,y)\n",
    "_X_train"
   ]
  },
  {
   "cell_type": "code",
   "execution_count": 26,
   "metadata": {},
   "outputs": [],
   "source": [
    "## 用X_test做为测试数据\n",
    "from MachineLearning.script import KNN\n",
    "knn_clf = KNN.KNNClassifier(k=6)"
   ]
  },
  {
   "cell_type": "code",
   "execution_count": 36,
   "metadata": {},
   "outputs": [
    {
     "data": {
      "text/plain": [
       "KNN(k=6)"
      ]
     },
     "execution_count": 36,
     "metadata": {},
     "output_type": "execute_result"
    }
   ],
   "source": [
    "## 使用自己封装好的KNN算法，用X_train,y_train做为训练数据\n",
    "knn_clf.fit(_X_train,_y_train)"
   ]
  },
  {
   "cell_type": "code",
   "execution_count": 37,
   "metadata": {},
   "outputs": [
    {
     "data": {
      "text/plain": [
       "array([1, 1, 2, 0, 2, 1, 2, 0, 0, 1, 2, 0, 1, 2, 2, 2, 2, 2, 0, 1, 1, 2,\n",
       "       1, 2, 1, 1, 0, 2, 0, 1])"
      ]
     },
     "execution_count": 37,
     "metadata": {},
     "output_type": "execute_result"
    }
   ],
   "source": [
    "## 用测试结果与y_test的真实结果做为比较，然后得出预测正确率\n",
    "y_predict = knn_clf.predict(_X_test)\n",
    "y_predict"
   ]
  },
  {
   "cell_type": "code",
   "execution_count": 38,
   "metadata": {},
   "outputs": [
    {
     "data": {
      "text/plain": [
       "array([1, 1, 2, 0, 2, 1, 2, 0, 0, 1, 2, 0, 1, 2, 2, 2, 2, 2, 0, 1, 1, 2,\n",
       "       1, 2, 1, 1, 0, 2, 0, 2])"
      ]
     },
     "execution_count": 38,
     "metadata": {},
     "output_type": "execute_result"
    }
   ],
   "source": [
    "_y_test"
   ]
  },
  {
   "cell_type": "code",
   "execution_count": 39,
   "metadata": {},
   "outputs": [
    {
     "data": {
      "text/plain": [
       "29"
      ]
     },
     "execution_count": 39,
     "metadata": {},
     "output_type": "execute_result"
    }
   ],
   "source": [
    "## 查看有多少个结果是相同的\n",
    "sum(y_predict==_y_test)"
   ]
  },
  {
   "cell_type": "code",
   "execution_count": 40,
   "metadata": {},
   "outputs": [
    {
     "data": {
      "text/plain": [
       "0.9666666666666667"
      ]
     },
     "execution_count": 40,
     "metadata": {},
     "output_type": "execute_result"
    }
   ],
   "source": [
    "## 相同数/总数 就是正确率\n",
    "sum(y_predict == _y_test)/len(_y_test)"
   ]
  },
  {
   "cell_type": "markdown",
   "metadata": {},
   "source": [
    "### 使用sklearn中的train_test_split"
   ]
  },
  {
   "cell_type": "code",
   "execution_count": 43,
   "metadata": {},
   "outputs": [],
   "source": [
    "from sklearn.model_selection import train_test_split\n",
    "_X_train_ , _X_test_ , _y_train_,_y_test_ = train_test_split(X,y,test_size=0.2,random_state=666)"
   ]
  },
  {
   "cell_type": "code",
   "execution_count": 45,
   "metadata": {},
   "outputs": [
    {
     "name": "stdout",
     "output_type": "stream",
     "text": [
      "(120, 4)\n",
      "(120,)\n",
      "(30, 4)\n",
      "(30,)\n"
     ]
    }
   ],
   "source": [
    "print(_X_train_.shape)\n",
    "print(_y_train_.shape)\n",
    "\n",
    "print (_X_test_.shape)\n",
    "print(_y_test_.shape)"
   ]
  },
  {
   "cell_type": "code",
   "execution_count": 46,
   "metadata": {},
   "outputs": [
    {
     "data": {
      "text/plain": [
       "array([1, 2, 1, 2, 0, 1, 1, 2, 1, 1, 1, 0, 0, 0, 2, 1, 0, 2, 2, 2, 1, 0,\n",
       "       2, 0, 1, 1, 0, 1, 2, 2])"
      ]
     },
     "execution_count": 46,
     "metadata": {},
     "output_type": "execute_result"
    }
   ],
   "source": [
    "knn_clf.fit(_X_train_,_y_train_)\n",
    "_y_predict_ = knn_clf.predict(_X_test_)\n",
    "_y_predict_ "
   ]
  },
  {
   "cell_type": "code",
   "execution_count": 47,
   "metadata": {},
   "outputs": [
    {
     "data": {
      "text/plain": [
       "30"
      ]
     },
     "execution_count": 47,
     "metadata": {},
     "output_type": "execute_result"
    }
   ],
   "source": [
    "sum(_y_predict_==_y_test_)"
   ]
  },
  {
   "cell_type": "code",
   "execution_count": 49,
   "metadata": {},
   "outputs": [
    {
     "data": {
      "text/plain": [
       "100.0"
      ]
     },
     "execution_count": 49,
     "metadata": {},
     "output_type": "execute_result"
    }
   ],
   "source": [
    "sum(_y_predict_==_y_test_)/len(_y_test_)*100"
   ]
  }
 ],
 "metadata": {
  "kernelspec": {
   "display_name": "Python 3",
   "language": "python",
   "name": "python3"
  },
  "language_info": {
   "codemirror_mode": {
    "name": "ipython",
    "version": 3
   },
   "file_extension": ".py",
   "mimetype": "text/x-python",
   "name": "python",
   "nbconvert_exporter": "python",
   "pygments_lexer": "ipython3",
   "version": "3.6.5"
  }
 },
 "nbformat": 4,
 "nbformat_minor": 2
}
