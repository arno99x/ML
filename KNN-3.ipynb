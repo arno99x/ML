{
 "cells": [
  {
   "cell_type": "markdown",
   "metadata": {},
   "source": [
    "# 手写数据识别"
   ]
  },
  {
   "cell_type": "code",
   "execution_count": 2,
   "metadata": {},
   "outputs": [],
   "source": [
    "import numpy as np\n",
    "import matplotlib.pyplot as plt\n",
    "from sklearn import datasets"
   ]
  },
  {
   "cell_type": "code",
   "execution_count": 5,
   "metadata": {},
   "outputs": [
    {
     "data": {
      "text/plain": [
       "dict_keys(['data', 'target', 'target_names', 'images', 'DESCR'])"
      ]
     },
     "execution_count": 5,
     "metadata": {},
     "output_type": "execute_result"
    }
   ],
   "source": [
    "# 加载sklearn自带的手写识别数据集\n",
    "digits = datasets.load_digits()\n",
    "digits.keys()"
   ]
  },
  {
   "cell_type": "code",
   "execution_count": 10,
   "metadata": {},
   "outputs": [
    {
     "name": "stdout",
     "output_type": "stream",
     "text": [
      "Optical Recognition of Handwritten Digits Data Set\n",
      "===================================================\n",
      "\n",
      "Notes\n",
      "-----\n",
      "Data Set Characteristics:\n",
      "    :Number of Instances: 5620\n",
      "    :Number of Attributes: 64\n",
      "    :Attribute Information: 8x8 image of integer pixels in the range 0..16.\n",
      "    :Missing Attribute Values: None\n",
      "    :Creator: E. Alpaydin (alpaydin '@' boun.edu.tr)\n",
      "    :Date: July; 1998\n",
      "\n",
      "This is a copy of the test set of the UCI ML hand-written digits datasets\n",
      "http://archive.ics.uci.edu/ml/datasets/Optical+Recognition+of+Handwritten+Digits\n",
      "\n",
      "The data set contains images of hand-written digits: 10 classes where\n",
      "each class refers to a digit.\n",
      "\n",
      "Preprocessing programs made available by NIST were used to extract\n",
      "normalized bitmaps of handwritten digits from a preprinted form. From a\n",
      "total of 43 people, 30 contributed to the training set and different 13\n",
      "to the test set. 32x32 bitmaps are divided into nonoverlapping blocks of\n",
      "4x4 and the number of on pixels are counted in each block. This generates\n",
      "an input matrix of 8x8 where each element is an integer in the range\n",
      "0..16. This reduces dimensionality and gives invariance to small\n",
      "distortions.\n",
      "\n",
      "For info on NIST preprocessing routines, see M. D. Garris, J. L. Blue, G.\n",
      "T. Candela, D. L. Dimmick, J. Geist, P. J. Grother, S. A. Janet, and C.\n",
      "L. Wilson, NIST Form-Based Handprint Recognition System, NISTIR 5469,\n",
      "1994.\n",
      "\n",
      "References\n",
      "----------\n",
      "  - C. Kaynak (1995) Methods of Combining Multiple Classifiers and Their\n",
      "    Applications to Handwritten Digit Recognition, MSc Thesis, Institute of\n",
      "    Graduate Studies in Science and Engineering, Bogazici University.\n",
      "  - E. Alpaydin, C. Kaynak (1998) Cascading Classifiers, Kybernetika.\n",
      "  - Ken Tang and Ponnuthurai N. Suganthan and Xi Yao and A. Kai Qin.\n",
      "    Linear dimensionalityreduction using relevance weighted LDA. School of\n",
      "    Electrical and Electronic Engineering Nanyang Technological University.\n",
      "    2005.\n",
      "  - Claudio Gentile. A New Approximate Maximal Margin Classification\n",
      "    Algorithm. NIPS. 2000.\n",
      "\n"
     ]
    }
   ],
   "source": [
    "print(digits.DESCR)"
   ]
  },
  {
   "cell_type": "code",
   "execution_count": 12,
   "metadata": {},
   "outputs": [],
   "source": [
    "X = digits.data"
   ]
  },
  {
   "cell_type": "code",
   "execution_count": 13,
   "metadata": {},
   "outputs": [],
   "source": [
    "y = digits.target"
   ]
  },
  {
   "cell_type": "code",
   "execution_count": 14,
   "metadata": {},
   "outputs": [
    {
     "data": {
      "text/plain": [
       "array([0, 1, 2, 3, 4, 5, 6, 7, 8, 9])"
      ]
     },
     "execution_count": 14,
     "metadata": {},
     "output_type": "execute_result"
    }
   ],
   "source": [
    "digits.target_names"
   ]
  },
  {
   "cell_type": "code",
   "execution_count": 15,
   "metadata": {},
   "outputs": [
    {
     "data": {
      "text/plain": [
       "array([4, 0, 5, ..., 8, 9, 8])"
      ]
     },
     "execution_count": 15,
     "metadata": {},
     "output_type": "execute_result"
    }
   ],
   "source": [
    "y[100:]"
   ]
  },
  {
   "cell_type": "code",
   "execution_count": 16,
   "metadata": {},
   "outputs": [
    {
     "data": {
      "text/plain": [
       "array([ 0.,  0.,  5., 15., 14.,  3.,  0.,  0.,  0.,  0., 13., 15.,  9.,\n",
       "       15.,  2.,  0.,  0.,  4., 16., 12.,  0., 10.,  6.,  0.,  0.,  8.,\n",
       "       16.,  9.,  0.,  8., 10.,  0.,  0.,  7., 15.,  5.,  0., 12., 11.,\n",
       "        0.,  0.,  7., 13.,  0.,  5., 16.,  6.,  0.,  0.,  0., 16., 12.,\n",
       "       15., 13.,  1.,  0.,  0.,  0.,  6., 16., 12.,  2.,  0.,  0.])"
      ]
     },
     "execution_count": 16,
     "metadata": {},
     "output_type": "execute_result"
    }
   ],
   "source": [
    "# 看一下X中的某个具体的值\n",
    "X[666]"
   ]
  },
  {
   "cell_type": "code",
   "execution_count": 33,
   "metadata": {},
   "outputs": [
    {
     "data": {
      "text/plain": [
       "<matplotlib.image.AxesImage at 0x10c917080>"
      ]
     },
     "execution_count": 33,
     "metadata": {},
     "output_type": "execute_result"
    },
    {
     "data": {
      "image/png": "[encoded data removed]",
      "text/plain": [
       "<Figure size 432x288 with 1 Axes>"
      ]
     },
     "metadata": {},
     "output_type": "display_data"
    }
   ],
   "source": [
    "# 完全看不出来这些是什么，下面用matplotlib.pyplot画一下看看\n",
    "\n",
    "# 这里用到了新的方法：plt.imshow(some_digit_image,cmap=matplotlib.cm.binary\n",
    "# 这个方法是用来画图的，有兴趣可以看相关文档\n",
    "\n",
    "some_digit_image = X[750].reshape(8,8)\n",
    "plt.imshow(some_digit_image,cmap=matplotlib.cm.binary)\n"
   ]
  },
  {
   "cell_type": "code",
   "execution_count": 22,
   "metadata": {},
   "outputs": [],
   "source": [
    "from MachineLearning.script.model_selection import train_test_split"
   ]
  },
  {
   "cell_type": "code",
   "execution_count": 23,
   "metadata": {},
   "outputs": [
    {
     "name": "stdout",
     "output_type": "stream",
     "text": [
      "(1438, 64)\n",
      "(1438,)\n",
      "(359, 64)\n",
      "(359,)\n"
     ]
    }
   ],
   "source": [
    "X_train, y_train, X_test, y_test = train_test_split(X,y)"
   ]
  },
  {
   "cell_type": "code",
   "execution_count": 24,
   "metadata": {},
   "outputs": [
    {
     "data": {
      "text/plain": [
       "array([[ 0.,  0.,  7., ...,  3.,  0.,  0.],\n",
       "       [ 0.,  2., 13., ...,  1.,  0.,  0.],\n",
       "       [ 0.,  1., 12., ...,  8.,  1.,  0.],\n",
       "       ...,\n",
       "       [ 0.,  4., 15., ...,  0.,  0.,  0.],\n",
       "       [ 0.,  0.,  0., ...,  0.,  0.,  0.],\n",
       "       [ 0.,  0.,  1., ...,  0.,  0.,  0.]])"
      ]
     },
     "execution_count": 24,
     "metadata": {},
     "output_type": "execute_result"
    }
   ],
   "source": [
    "X_train"
   ]
  },
  {
   "cell_type": "code",
   "execution_count": 25,
   "metadata": {},
   "outputs": [],
   "source": [
    "from MachineLearning.script import KNN"
   ]
  },
  {
   "cell_type": "code",
   "execution_count": 26,
   "metadata": {},
   "outputs": [],
   "source": [
    "my_knn_clf = KNN.KNNClassifier(k=3)"
   ]
  },
  {
   "cell_type": "code",
   "execution_count": 27,
   "metadata": {},
   "outputs": [
    {
     "data": {
      "text/plain": [
       "KNN(k=3)"
      ]
     },
     "execution_count": 27,
     "metadata": {},
     "output_type": "execute_result"
    }
   ],
   "source": [
    "my_knn_clf.fit(X_train,y_train)"
   ]
  },
  {
   "cell_type": "code",
   "execution_count": 28,
   "metadata": {},
   "outputs": [
    {
     "data": {
      "text/plain": [
       "array([3, 7, 5, 8, 9, 3, 8, 0, 6, 0, 7, 8, 4, 1, 9, 7, 1, 2, 2, 6, 4, 1,\n",
       "       3, 9, 3, 1, 5, 2, 9, 8, 1, 4, 5, 6, 3, 5, 0, 8, 5, 3, 3, 4, 0, 9,\n",
       "       2, 0, 6, 1, 2, 1, 0, 3, 3, 1, 5, 7, 3, 6, 7, 6, 8, 9, 2, 6, 1, 3,\n",
       "       5, 6, 2, 4, 3, 2, 0, 9, 5, 1, 6, 6, 4, 3, 0, 6, 4, 9, 5, 5, 0, 8,\n",
       "       8, 3, 3, 2, 2, 9, 6, 4, 0, 7, 1, 3, 7, 5, 1, 2, 4, 3, 5, 8, 1, 4,\n",
       "       1, 1, 4, 8, 2, 1, 1, 1, 3, 3, 2, 7, 6, 7, 2, 0, 7, 3, 8, 3, 0, 7,\n",
       "       8, 5, 7, 5, 4, 4, 4, 1, 7, 3, 8, 8, 5, 5, 5, 9, 4, 8, 4, 3, 0, 9,\n",
       "       0, 8, 1, 7, 7, 9, 1, 8, 6, 5, 4, 0, 3, 0, 4, 5, 2, 1, 3, 3, 4, 0,\n",
       "       1, 1, 9, 5, 4, 9, 5, 6, 2, 8, 2, 5, 6, 9, 7, 9, 3, 1, 5, 5, 6, 3,\n",
       "       1, 9, 5, 3, 1, 4, 0, 3, 8, 9, 5, 1, 8, 5, 2, 9, 0, 4, 2, 7, 0, 0,\n",
       "       2, 8, 4, 4, 1, 5, 3, 1, 3, 2, 2, 0, 8, 4, 6, 7, 1, 3, 7, 7, 0, 9,\n",
       "       6, 4, 8, 3, 3, 0, 2, 8, 5, 5, 5, 2, 4, 0, 1, 9, 3, 3, 0, 2, 6, 7,\n",
       "       9, 2, 5, 6, 5, 9, 5, 0, 6, 3, 1, 9, 0, 9, 2, 5, 2, 7, 4, 5, 2, 5,\n",
       "       8, 7, 9, 8, 7, 2, 3, 7, 9, 8, 4, 0, 2, 8, 7, 8, 7, 7, 2, 0, 5, 7,\n",
       "       5, 2, 9, 6, 8, 0, 0, 8, 7, 7, 3, 0, 1, 7, 8, 8, 2, 8, 2, 6, 7, 9,\n",
       "       1, 1, 1, 1, 5, 3, 9, 2, 3, 5, 8, 8, 4, 6, 6, 3, 1, 6, 1, 4, 3, 0,\n",
       "       7, 9, 2, 2, 3, 6, 8])"
      ]
     },
     "execution_count": 28,
     "metadata": {},
     "output_type": "execute_result"
    }
   ],
   "source": [
    "y_predict = my_knn_clf.predict(X_test)\n",
    "y_predict"
   ]
  },
  {
   "cell_type": "code",
   "execution_count": 29,
   "metadata": {},
   "outputs": [
    {
     "data": {
      "text/plain": [
       "array([3, 7, 5, 8, 9, 3, 8, 0, 6, 0, 7, 8, 4, 1, 9, 7, 1, 2, 2, 6, 4, 1,\n",
       "       3, 9, 3, 1, 5, 2, 9, 8, 1, 4, 5, 6, 3, 5, 0, 8, 5, 3, 3, 4, 0, 9,\n",
       "       2, 0, 6, 1, 2, 1, 0, 3, 3, 1, 5, 7, 3, 6, 7, 6, 8, 9, 2, 6, 1, 3,\n",
       "       5, 6, 2, 4, 3, 2, 0, 9, 5, 1, 6, 6, 4, 3, 0, 6, 4, 9, 5, 5, 0, 8,\n",
       "       8, 3, 3, 2, 2, 9, 6, 4, 0, 7, 1, 3, 7, 5, 1, 2, 4, 3, 5, 8, 1, 4,\n",
       "       1, 1, 4, 8, 2, 1, 1, 1, 3, 3, 2, 7, 6, 7, 2, 0, 7, 3, 8, 3, 0, 7,\n",
       "       8, 5, 7, 5, 4, 4, 4, 1, 3, 3, 8, 8, 5, 5, 5, 9, 4, 8, 4, 3, 0, 9,\n",
       "       0, 8, 8, 7, 7, 3, 1, 8, 6, 5, 4, 0, 3, 0, 4, 5, 2, 8, 3, 3, 4, 0,\n",
       "       1, 1, 9, 5, 4, 9, 5, 6, 2, 8, 2, 5, 6, 9, 7, 9, 3, 1, 5, 5, 6, 3,\n",
       "       1, 9, 5, 3, 1, 4, 0, 3, 8, 9, 5, 1, 8, 5, 2, 9, 0, 4, 2, 7, 0, 0,\n",
       "       2, 6, 4, 4, 1, 5, 3, 1, 3, 2, 2, 0, 8, 9, 6, 7, 1, 3, 7, 7, 0, 9,\n",
       "       6, 4, 8, 3, 3, 0, 2, 8, 5, 5, 5, 2, 4, 0, 1, 9, 3, 3, 0, 2, 6, 7,\n",
       "       9, 2, 5, 6, 5, 9, 5, 0, 6, 3, 1, 9, 0, 9, 2, 9, 2, 7, 4, 5, 2, 5,\n",
       "       8, 7, 9, 8, 7, 2, 3, 7, 9, 8, 4, 0, 2, 8, 7, 8, 7, 7, 2, 0, 5, 7,\n",
       "       5, 2, 9, 6, 8, 0, 0, 8, 7, 7, 3, 0, 8, 7, 8, 8, 2, 8, 2, 6, 7, 9,\n",
       "       1, 1, 1, 1, 5, 3, 9, 2, 3, 5, 8, 8, 4, 6, 6, 3, 1, 6, 1, 4, 3, 0,\n",
       "       7, 9, 2, 2, 3, 6, 8])"
      ]
     },
     "execution_count": 29,
     "metadata": {},
     "output_type": "execute_result"
    }
   ],
   "source": [
    "y_test"
   ]
  },
  {
   "cell_type": "markdown",
   "metadata": {},
   "source": [
    "### 使用封装好的metrics类来检测预测准确率"
   ]
  },
  {
   "cell_type": "code",
   "execution_count": 34,
   "metadata": {},
   "outputs": [],
   "source": [
    "from MachineLearning.script import metrics"
   ]
  },
  {
   "cell_type": "code",
   "execution_count": 35,
   "metadata": {},
   "outputs": [
    {
     "data": {
      "text/plain": [
       "0.9777158774373259"
      ]
     },
     "execution_count": 35,
     "metadata": {},
     "output_type": "execute_result"
    }
   ],
   "source": [
    "retio = metrics.accuracy_score(y_test,y_predict)\n",
    "retio"
   ]
  },
  {
   "cell_type": "markdown",
   "metadata": {},
   "source": [
    "### 使用sklearn中的accuracy_score来检验预测准确率"
   ]
  },
  {
   "cell_type": "code",
   "execution_count": 46,
   "metadata": {},
   "outputs": [],
   "source": [
    "from sklearn import model_selection\n",
    "_X_train,_X_test,_y_train,_y_test = model_selection.train_test_split(X,y)"
   ]
  },
  {
   "cell_type": "code",
   "execution_count": 47,
   "metadata": {},
   "outputs": [
    {
     "data": {
      "text/plain": [
       "KNeighborsClassifier(algorithm='auto', leaf_size=30, metric='minkowski',\n",
       "           metric_params=None, n_jobs=1, n_neighbors=3, p=2,\n",
       "           weights='uniform')"
      ]
     },
     "execution_count": 47,
     "metadata": {},
     "output_type": "execute_result"
    }
   ],
   "source": [
    "from sklearn.neighbors import KNeighborsClassifier\n",
    "\n",
    "knn_clf = KNeighborsClassifier(n_neighbors=3)\n",
    "knn_clf.fit(_X_train,_y_train)"
   ]
  },
  {
   "cell_type": "code",
   "execution_count": 48,
   "metadata": {},
   "outputs": [],
   "source": [
    "_y_predict = knn_clf.predict(_X_test)"
   ]
  },
  {
   "cell_type": "code",
   "execution_count": 49,
   "metadata": {},
   "outputs": [
    {
     "data": {
      "text/plain": [
       "0.9822222222222222"
      ]
     },
     "execution_count": 49,
     "metadata": {},
     "output_type": "execute_result"
    }
   ],
   "source": [
    "from sklearn.metrics import accuracy_score\n",
    "accuracy_score(_y_test,_y_predict)"
   ]
  }
 ],
 "metadata": {
  "kernelspec": {
   "display_name": "Python 3",
   "language": "python",
   "name": "python3"
  },
  "language_info": {
   "codemirror_mode": {
    "name": "ipython",
    "version": 3
   },
   "file_extension": ".py",
   "mimetype": "text/x-python",
   "name": "python",
   "nbconvert_exporter": "python",
   "pygments_lexer": "ipython3",
   "version": "3.6.5"
  }
 },
 "nbformat": 4,
 "nbformat_minor": 2
}
