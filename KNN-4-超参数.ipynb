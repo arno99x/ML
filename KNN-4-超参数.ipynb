{
 "cells": [
  {
   "cell_type": "markdown",
   "metadata": {},
   "source": [
    "# 超参数\n",
    "#### 超参数 ：在算法运行之前需要决定的参数\n",
    "#### 模型参数 ：算法过程中学习的参数\n",
    "\n",
    "#### KNN算法没有模型参数\n",
    "#### KNN算法中的k是典型的超参数\n",
    "#### 典型的说法就是算法工程师的调参工作，指的就是超参数，是要算法运行前要设置好的\n",
    "\n",
    "### 如何寻找好的超参数？ 通常是根据以下三点：\n",
    "#### 1. 领域知识  2. 经验数值 3.实验搜索"
   ]
  },
  {
   "cell_type": "code",
   "execution_count": 3,
   "metadata": {},
   "outputs": [],
   "source": [
    "import numpy as np\n",
    "from sklearn import datasets\n",
    "from sklearn import model_selection\n",
    "from sklearn.neighbors import KNeighborsClassifier\n",
    "\n"
   ]
  },
  {
   "cell_type": "code",
   "execution_count": 4,
   "metadata": {},
   "outputs": [],
   "source": [
    "digits = datasets.load_digits()\n",
    "X = digits.data\n",
    "y = digits.target\n"
   ]
  },
  {
   "cell_type": "code",
   "execution_count": 5,
   "metadata": {},
   "outputs": [],
   "source": [
    "\n",
    "_X_train,_X_test,_y_train,_y_test = model_selection.train_test_split(X,y)\n"
   ]
  },
  {
   "cell_type": "code",
   "execution_count": 6,
   "metadata": {},
   "outputs": [
    {
     "data": {
      "text/plain": [
       "0.9911111111111112"
      ]
     },
     "execution_count": 6,
     "metadata": {},
     "output_type": "execute_result"
    }
   ],
   "source": [
    "\n",
    "knn_clf = KNeighborsClassifier(n_neighbors=3)\n",
    "knn_clf.fit(_X_train,_y_train)\n",
    "knn_clf.score(_X_test,_y_test)"
   ]
  },
  {
   "cell_type": "markdown",
   "metadata": {},
   "source": [
    "### 寻找最好的K"
   ]
  },
  {
   "cell_type": "code",
   "execution_count": 9,
   "metadata": {},
   "outputs": [
    {
     "name": "stdout",
     "output_type": "stream",
     "text": [
      "best k is  3\n",
      "best score is  0.9911111111111112\n"
     ]
    }
   ],
   "source": [
    "best_score = 0.0\n",
    "best_k = -1\n",
    "for k in range (1,11):\n",
    "    knn_clf = KNeighborsClassifier(n_neighbors=k)\n",
    "    knn_clf.fit(_X_train,_y_train)\n",
    "    score = knn_clf.score(_X_test,_y_test)\n",
    "    if score > best_score:\n",
    "        best_score = score\n",
    "        best_k = k\n",
    "        \n",
    "print(\"best k is \",best_k)\n",
    "print(\"best score is \",best_score)"
   ]
  },
  {
   "cell_type": "markdown",
   "metadata": {},
   "source": [
    "## KNN近邻算法的另一个重要超参数 ：距离权重\n",
    "### 举例说明： \n",
    "#### . 与元素A最近的三个元素分别是B1 B2 B3 \n",
    "#### . 其中 B1的标签是蓝色 ，B2 B3的标签是蓝色\n",
    "#### . A与B1的距离是1   ； A与B2 B3的距离分别是3 4\n",
    "#### . 距离权重公式 蓝色为： 1/B2距离 + 1/B3距离 = 1/3 + 1/4 = 7/12\n",
    "#### . 距离权重公式 红色为： 1/B1距离 = 1/1 = 1\n",
    "#### . 红色结果要大于蓝色，所以即使蓝色有两个近邻元素，但是却输了\n",
    "\n",
    "### 距离权重在sklearn中的具体实现如下：\n",
    "#### KNeighborsClassifier(n_neighbors=k)还可以加另一个参数weights, 这个参数取值[\"uniform\",\"distance\"]\n",
    "#### uniform : 不考滤距离权重    distance : 考滤距离权重"
   ]
  },
  {
   "cell_type": "code",
   "execution_count": 12,
   "metadata": {},
   "outputs": [
    {
     "name": "stdout",
     "output_type": "stream",
     "text": [
      "best mode is  distance\n",
      "best k is  4\n",
      "best score is  0.9933333333333333\n"
     ]
    }
   ],
   "source": [
    "best_score = 0.0\n",
    "best_k = -1\n",
    "best_mode = \"\"\n",
    "\n",
    "for mode in [\"uniform\",\"distance\"]:\n",
    "    for k in range (1,11):\n",
    "        knn_clf = KNeighborsClassifier(n_neighbors=k,weights=mode)\n",
    "        knn_clf.fit(_X_train,_y_train)\n",
    "        score = knn_clf.score(_X_test,_y_test)\n",
    "        if score > best_score:\n",
    "            best_score = score\n",
    "            best_k = k\n",
    "            best_mode = mode\n",
    "        \n",
    "print(\"best mode is \",best_mode)\n",
    "print(\"best k is \",best_k)\n",
    "print(\"best score is \",best_score)"
   ]
  },
  {
   "cell_type": "markdown",
   "metadata": {},
   "source": [
    "## 距离超参\n",
    "#### 距离是什么距离？\n",
    "#### 欧拉距离、曼哈顿距离、明可夫斯基距离\n",
    "#### 两点之间的直线距离就是欧拉距离，两点之间的直角线就是曼哈顿距离，把两个距离公司给简化后合并就是明可夫斯基距离\n",
    "#### 明可夫斯基距离有个P参数，当P为1时就是曼哈顿距离，为2时就是欧拉距离，大于2时就是其它距离了\n",
    "#### 到底用哪个参数更准确呢？这又是一个超参\n",
    "\n",
    "### 更多的距离定义\n",
    "###### 向量空间余弦相似度 Cosine Similarity\n",
    "###### 调整余玄相似度 Adjusted Cosine Similarity\n",
    "###### 皮尔森相关系数  Pearson Correlation Coefficient\n",
    "###### Jaccard相似系数 Jaccard Coefficient"
   ]
  },
  {
   "cell_type": "code",
   "execution_count": 14,
   "metadata": {},
   "outputs": [
    {
     "name": "stdout",
     "output_type": "stream",
     "text": [
      "best p is  3\n",
      "best mode is  distance\n",
      "best k is  4\n",
      "best score is  0.9955555555555555\n"
     ]
    }
   ],
   "source": [
    "best_score = 0.0\n",
    "best_k = -1\n",
    "best_mode = \"\"\n",
    "best_p = -1\n",
    "\n",
    "for p in range(1,5):\n",
    "    for mode in [\"uniform\",\"distance\"]:\n",
    "        for k in range (1,11):\n",
    "            knn_clf = KNeighborsClassifier(n_neighbors=k,weights=mode,p=p)\n",
    "            knn_clf.fit(_X_train,_y_train)\n",
    "            score = knn_clf.score(_X_test,_y_test)\n",
    "            if score > best_score:\n",
    "                best_score = score\n",
    "                best_k = k\n",
    "                best_mode = mode\n",
    "                best_p = p\n",
    "        \n",
    "print(\"best p is \",best_p)\n",
    "print(\"best mode is \",best_mode)\n",
    "print(\"best k is \",best_k)\n",
    "print(\"best score is \",best_score)"
   ]
  },
  {
   "cell_type": "code",
   "execution_count": 15,
   "metadata": {},
   "outputs": [
    {
     "name": "stdout",
     "output_type": "stream",
     "text": [
      "best p is  3\n",
      "best k is  4\n",
      "best score is  0.9955555555555555\n"
     ]
    }
   ],
   "source": [
    "best_score = 0.0\n",
    "best_k = -1\n",
    "best_mode = \"\"\n",
    "best_p = -1\n",
    "\n",
    "for p in range(1,5):\n",
    "    for k in range (1,11):\n",
    "        knn_clf = KNeighborsClassifier(n_neighbors=k,weights=\"distance\",p=p)\n",
    "        knn_clf.fit(_X_train,_y_train)\n",
    "        score = knn_clf.score(_X_test,_y_test)\n",
    "        if score > best_score:\n",
    "            best_score = score\n",
    "            best_k = k\n",
    "            best_mode = mode\n",
    "            best_p = p\n",
    "        \n",
    "print(\"best p is \",best_p)\n",
    "print(\"best k is \",best_k)\n",
    "print(\"best score is \",best_score)"
   ]
  },
  {
   "cell_type": "code",
   "execution_count": null,
   "metadata": {},
   "outputs": [],
   "source": []
  }
 ],
 "metadata": {
  "kernelspec": {
   "display_name": "Python 3",
   "language": "python",
   "name": "python3"
  },
  "language_info": {
   "codemirror_mode": {
    "name": "ipython",
    "version": 3
   },
   "file_extension": ".py",
   "mimetype": "text/x-python",
   "name": "python",
   "nbconvert_exporter": "python",
   "pygments_lexer": "ipython3",
   "version": "3.6.5"
  }
 },
 "nbformat": 4,
 "nbformat_minor": 2
}
