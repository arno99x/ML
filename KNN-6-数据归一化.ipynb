{
 "cells": [
  {
   "cell_type": "markdown",
   "metadata": {},
   "source": [
    "# 数据归一化 Feature Scaling\n",
    "\n",
    "##### 举例： 病例A ： 肿瘤大小为1， 发现时间为200天\n",
    "#####             病例B ： 肿瘤大小为5，发现时间为100天\n",
    "##### 这时计算两两个元素的距离时，因为天数据的值比较大，所以占距了主导地位，而肿瘤大小相应权重就变小了\n",
    "\n",
    "### 解决方法\n",
    "##### 方法一 ： 最值归一化\n",
    "##### 所谓最值归一化就是把数据矩阵中的最大值减去最小值为域， 各元素取值为 （元素值-最小值）/ （最大值-最小值）， 这样就把所有的值固定在0-1之间\n",
    "##### 缺点 对有明显边界的数据比较好用，但是对数据差异较大的就数据用这种方法就不太好，比如A月收入为2000万元，由于A的存在，其它人的数据都被映射的很小，所以归一化的值就不够理想\n",
    "\n",
    "##### 方法二 ：均值方差归一化 standardization\n",
    "##### 把所有的数据归一到均值为0方差为1的分布中，计算方式：特征值 - 特征均值 / 特征对应的方差 \n",
    "##### 对于存在极端值的数据比较有效，如上面说的A月收为200万\n"
   ]
  },
  {
   "cell_type": "markdown",
   "metadata": {},
   "source": [
    "## 最值归一化处理方式"
   ]
  },
  {
   "cell_type": "code",
   "execution_count": 66,
   "metadata": {},
   "outputs": [],
   "source": [
    "import numpy as np\n",
    "import matplotlib.pyplot as plt\n",
    "from sklearn import datasets"
   ]
  },
  {
   "cell_type": "code",
   "execution_count": 67,
   "metadata": {},
   "outputs": [
    {
     "data": {
      "text/plain": [
       "array([21, 21, 14, 44, 93, 25,  2, 63, 44, 77, 93, 13,  4, 48, 26, 92, 58,\n",
       "        0, 85, 83, 30, 82, 31, 36, 19, 87, 87, 71,  5, 11, 24, 82, 29, 33,\n",
       "       49, 70,  4, 34, 42, 77, 10, 93, 83, 27, 90, 36, 41, 90, 96, 73, 56,\n",
       "       61, 52, 78, 90, 98, 98, 11, 37, 78,  5, 71, 42, 39,  1, 64, 24, 50,\n",
       "       65, 62, 19, 61, 72, 83,  5, 75, 30, 55, 54, 50,  3, 94, 27, 65, 90,\n",
       "       96,  6, 84, 34,  7, 82, 91, 43, 33,  7, 67,  8, 53, 55, 85])"
      ]
     },
     "execution_count": 67,
     "metadata": {},
     "output_type": "execute_result"
    }
   ],
   "source": [
    "x = np.random.randint(0,100,size=100)\n",
    "x"
   ]
  },
  {
   "cell_type": "code",
   "execution_count": 68,
   "metadata": {},
   "outputs": [
    {
     "data": {
      "text/plain": [
       "array([0.21428571, 0.21428571, 0.14285714, 0.44897959, 0.94897959,\n",
       "       0.25510204, 0.02040816, 0.64285714, 0.44897959, 0.78571429,\n",
       "       0.94897959, 0.13265306, 0.04081633, 0.48979592, 0.26530612,\n",
       "       0.93877551, 0.59183673, 0.        , 0.86734694, 0.84693878,\n",
       "       0.30612245, 0.83673469, 0.31632653, 0.36734694, 0.19387755,\n",
       "       0.8877551 , 0.8877551 , 0.7244898 , 0.05102041, 0.1122449 ,\n",
       "       0.24489796, 0.83673469, 0.29591837, 0.33673469, 0.5       ,\n",
       "       0.71428571, 0.04081633, 0.34693878, 0.42857143, 0.78571429,\n",
       "       0.10204082, 0.94897959, 0.84693878, 0.2755102 , 0.91836735,\n",
       "       0.36734694, 0.41836735, 0.91836735, 0.97959184, 0.74489796,\n",
       "       0.57142857, 0.62244898, 0.53061224, 0.79591837, 0.91836735,\n",
       "       1.        , 1.        , 0.1122449 , 0.37755102, 0.79591837,\n",
       "       0.05102041, 0.7244898 , 0.42857143, 0.39795918, 0.01020408,\n",
       "       0.65306122, 0.24489796, 0.51020408, 0.66326531, 0.63265306,\n",
       "       0.19387755, 0.62244898, 0.73469388, 0.84693878, 0.05102041,\n",
       "       0.76530612, 0.30612245, 0.56122449, 0.55102041, 0.51020408,\n",
       "       0.03061224, 0.95918367, 0.2755102 , 0.66326531, 0.91836735,\n",
       "       0.97959184, 0.06122449, 0.85714286, 0.34693878, 0.07142857,\n",
       "       0.83673469, 0.92857143, 0.43877551, 0.33673469, 0.07142857,\n",
       "       0.68367347, 0.08163265, 0.54081633, 0.56122449, 0.86734694])"
      ]
     },
     "execution_count": 68,
     "metadata": {},
     "output_type": "execute_result"
    }
   ],
   "source": [
    "(x - np.min(x))/(np.max(x) - np.min(x))"
   ]
  },
  {
   "cell_type": "code",
   "execution_count": 69,
   "metadata": {},
   "outputs": [
    {
     "data": {
      "text/plain": [
       "array([[41, 36],\n",
       "       [60, 31],\n",
       "       [74, 53],\n",
       "       [16, 24],\n",
       "       [46, 61],\n",
       "       [46,  6],\n",
       "       [35, 93],\n",
       "       [56, 34],\n",
       "       [57, 18],\n",
       "       [27, 90]])"
      ]
     },
     "execution_count": 69,
     "metadata": {},
     "output_type": "execute_result"
    }
   ],
   "source": [
    "X = np.random.randint(0,100,(50,2))\n",
    "X[:10,:]"
   ]
  },
  {
   "cell_type": "code",
   "execution_count": 70,
   "metadata": {},
   "outputs": [
    {
     "data": {
      "text/plain": [
       "array([[41., 36.],\n",
       "       [60., 31.],\n",
       "       [74., 53.],\n",
       "       [16., 24.],\n",
       "       [46., 61.],\n",
       "       [46.,  6.],\n",
       "       [35., 93.],\n",
       "       [56., 34.],\n",
       "       [57., 18.],\n",
       "       [27., 90.]])"
      ]
     },
     "execution_count": 70,
     "metadata": {},
     "output_type": "execute_result"
    }
   ],
   "source": [
    "X = np.array(X,dtype=float)\n",
    "X[:10,:]"
   ]
  },
  {
   "cell_type": "code",
   "execution_count": 71,
   "metadata": {},
   "outputs": [],
   "source": [
    "X[:,0] = (X[:,0]- np.min(X[:,0]))/ (np.max(X[:,0])-np.min(X[:,0]))\n",
    "X[:,1] = (X[:,1]- np.min(X[:,1]))/ (np.max(X[:,1])-np.min(X[:,1]))"
   ]
  },
  {
   "cell_type": "code",
   "execution_count": 72,
   "metadata": {},
   "outputs": [
    {
     "data": {
      "text/plain": [
       "array([[0.41052632, 0.34375   ],\n",
       "       [0.61052632, 0.29166667],\n",
       "       [0.75789474, 0.52083333],\n",
       "       [0.14736842, 0.21875   ],\n",
       "       [0.46315789, 0.60416667],\n",
       "       [0.46315789, 0.03125   ],\n",
       "       [0.34736842, 0.9375    ],\n",
       "       [0.56842105, 0.32291667],\n",
       "       [0.57894737, 0.15625   ],\n",
       "       [0.26315789, 0.90625   ]])"
      ]
     },
     "execution_count": 72,
     "metadata": {},
     "output_type": "execute_result"
    }
   ],
   "source": [
    "X[:10,:]"
   ]
  },
  {
   "cell_type": "code",
   "execution_count": 73,
   "metadata": {},
   "outputs": [
    {
     "data": {
      "text/plain": [
       "<matplotlib.collections.PathCollection at 0x1a1ad2aac8>"
      ]
     },
     "execution_count": 73,
     "metadata": {},
     "output_type": "execute_result"
    },
    {
     "data": {
      "image/png": "[encoded data removed]",
      "text/plain": [
       "<Figure size 432x288 with 1 Axes>"
      ]
     },
     "metadata": {},
     "output_type": "display_data"
    }
   ],
   "source": [
    "plt.scatter(X[:,0],X[:,1])"
   ]
  },
  {
   "cell_type": "markdown",
   "metadata": {},
   "source": [
    "## 均值方差归一化处理方式"
   ]
  },
  {
   "cell_type": "code",
   "execution_count": 74,
   "metadata": {},
   "outputs": [
    {
     "data": {
      "text/plain": [
       "array([62., 33., 41., 44., 85., 78., 98.,  9.,  5., 26.])"
      ]
     },
     "execution_count": 74,
     "metadata": {},
     "output_type": "execute_result"
    }
   ],
   "source": [
    "X2 = np.random.randint(0,100,(50,2))\n",
    "X2 = np.array(X2,dtype=float)\n",
    "X2[:10,0]"
   ]
  },
  {
   "cell_type": "code",
   "execution_count": 75,
   "metadata": {},
   "outputs": [
    {
     "data": {
      "text/plain": [
       "47.26"
      ]
     },
     "execution_count": 75,
     "metadata": {},
     "output_type": "execute_result"
    }
   ],
   "source": [
    "## 0列平均值\n",
    "np.mean(X2[:,0])"
   ]
  },
  {
   "cell_type": "code",
   "execution_count": 76,
   "metadata": {},
   "outputs": [
    {
     "data": {
      "text/plain": [
       "29.60392541539044"
      ]
     },
     "execution_count": 76,
     "metadata": {},
     "output_type": "execute_result"
    }
   ],
   "source": [
    "## 0列方差\n",
    "np.std(X2[:,0])"
   ]
  },
  {
   "cell_type": "code",
   "execution_count": 77,
   "metadata": {},
   "outputs": [
    {
     "data": {
      "text/plain": [
       "39.52"
      ]
     },
     "execution_count": 77,
     "metadata": {},
     "output_type": "execute_result"
    }
   ],
   "source": [
    "## 1列平均值\n",
    "np.mean(X2[:,1])"
   ]
  },
  {
   "cell_type": "code",
   "execution_count": 78,
   "metadata": {},
   "outputs": [
    {
     "data": {
      "text/plain": [
       "27.793697127226526"
      ]
     },
     "execution_count": 78,
     "metadata": {},
     "output_type": "execute_result"
    }
   ],
   "source": [
    "## 1列方差\n",
    "np.std(X2[:,1])"
   ]
  },
  {
   "cell_type": "code",
   "execution_count": 79,
   "metadata": {},
   "outputs": [],
   "source": [
    "X2[:,0] = (X2[:,0] - np.mean(X2[:,0])) / np.std(X2[:,0])"
   ]
  },
  {
   "cell_type": "code",
   "execution_count": 80,
   "metadata": {},
   "outputs": [],
   "source": [
    "X2[:,1] = (X2[:,1] - np.mean(X2[:,1])) / np.std(X2[:,1])"
   ]
  },
  {
   "cell_type": "code",
   "execution_count": 81,
   "metadata": {},
   "outputs": [
    {
     "data": {
      "text/plain": [
       "array([[ 0.49790694,  0.37706391],\n",
       "       [-0.48169288,  1.45644532],\n",
       "       [-0.21145844, -1.42190511],\n",
       "       [-0.11012053, -0.41448246],\n",
       "       [ 1.27483094,  0.37706391],\n",
       "       [ 1.03837581,  1.8522185 ],\n",
       "       [ 1.71396189, -0.41448246],\n",
       "       [-1.29239618, -0.84623503],\n",
       "       [-1.42751339,  0.98871337],\n",
       "       [-0.71814801, -1.02613193]])"
      ]
     },
     "execution_count": 81,
     "metadata": {},
     "output_type": "execute_result"
    }
   ],
   "source": [
    "X2[:10,:]"
   ]
  },
  {
   "cell_type": "code",
   "execution_count": 82,
   "metadata": {},
   "outputs": [
    {
     "data": {
      "text/plain": [
       "<matplotlib.collections.PathCollection at 0x1a1adde7b8>"
      ]
     },
     "execution_count": 82,
     "metadata": {},
     "output_type": "execute_result"
    },
    {
     "data": {
      "image/png": "[encoded data removed]",
      "text/plain": [
       "<Figure size 432x288 with 1 Axes>"
      ]
     },
     "metadata": {},
     "output_type": "display_data"
    }
   ],
   "source": [
    "plt.scatter(X2[:,0],X2[:,1])"
   ]
  },
  {
   "cell_type": "code",
   "execution_count": 83,
   "metadata": {},
   "outputs": [
    {
     "data": {
      "text/plain": [
       "7.993605777301127e-17"
      ]
     },
     "execution_count": 83,
     "metadata": {},
     "output_type": "execute_result"
    }
   ],
   "source": [
    "np.mean(X2[:,0])"
   ]
  },
  {
   "cell_type": "code",
   "execution_count": 84,
   "metadata": {
    "scrolled": true
   },
   "outputs": [
    {
     "data": {
      "text/plain": [
       "1.0"
      ]
     },
     "execution_count": 84,
     "metadata": {},
     "output_type": "execute_result"
    }
   ],
   "source": [
    "np.std(X2[:,0])"
   ]
  },
  {
   "cell_type": "code",
   "execution_count": 85,
   "metadata": {},
   "outputs": [
    {
     "data": {
      "text/plain": [
       "-1.1324274851176597e-16"
      ]
     },
     "execution_count": 85,
     "metadata": {},
     "output_type": "execute_result"
    }
   ],
   "source": [
    "np.mean(X2[:,1])"
   ]
  },
  {
   "cell_type": "code",
   "execution_count": 86,
   "metadata": {},
   "outputs": [
    {
     "data": {
      "text/plain": [
       "0.9999999999999999"
      ]
     },
     "execution_count": 86,
     "metadata": {},
     "output_type": "execute_result"
    }
   ],
   "source": [
    "np.std(X2[:,1])"
   ]
  },
  {
   "cell_type": "markdown",
   "metadata": {},
   "source": [
    "## 测试数据集如何做归一化处理？\n",
    "##### 这里有个陷井，如果你使用测试数据集的最大最小值或均值方法就不对了，应该仍然使用训练数据集的这些参数\n",
    "\n"
   ]
  },
  {
   "cell_type": "markdown",
   "metadata": {},
   "source": [
    "\n",
    "## scikit-learn中的归一化处理（Scaler） "
   ]
  },
  {
   "cell_type": "code",
   "execution_count": 119,
   "metadata": {},
   "outputs": [],
   "source": [
    "iris = datasets.load_iris()"
   ]
  },
  {
   "cell_type": "code",
   "execution_count": 120,
   "metadata": {},
   "outputs": [],
   "source": [
    "X = iris.data\n",
    "y = iris.target"
   ]
  },
  {
   "cell_type": "code",
   "execution_count": 121,
   "metadata": {},
   "outputs": [
    {
     "data": {
      "text/plain": [
       "array([[5.1, 3.5, 1.4, 0.2],\n",
       "       [4.9, 3. , 1.4, 0.2],\n",
       "       [4.7, 3.2, 1.3, 0.2],\n",
       "       [4.6, 3.1, 1.5, 0.2],\n",
       "       [5. , 3.6, 1.4, 0.2],\n",
       "       [5.4, 3.9, 1.7, 0.4],\n",
       "       [4.6, 3.4, 1.4, 0.3],\n",
       "       [5. , 3.4, 1.5, 0.2],\n",
       "       [4.4, 2.9, 1.4, 0.2],\n",
       "       [4.9, 3.1, 1.5, 0.1]])"
      ]
     },
     "execution_count": 121,
     "metadata": {},
     "output_type": "execute_result"
    }
   ],
   "source": [
    "X[:10,:]"
   ]
  },
  {
   "cell_type": "code",
   "execution_count": 122,
   "metadata": {},
   "outputs": [],
   "source": [
    "from sklearn.model_selection import train_test_split\n",
    "X_train,X_test,y_train,y_test = train_test_split(X,y,test_size=0.2,random_state=666)"
   ]
  },
  {
   "cell_type": "code",
   "execution_count": 123,
   "metadata": {},
   "outputs": [
    {
     "data": {
      "text/plain": [
       "StandardScaler(copy=True, with_mean=True, with_std=True)"
      ]
     },
     "execution_count": 123,
     "metadata": {},
     "output_type": "execute_result"
    }
   ],
   "source": [
    "## scikit-learn中的StandardScaler\n",
    "from sklearn.preprocessing import StandardScaler\n",
    "standardScaler = StandardScaler()\n",
    "standardScaler.fit(X_train,y_train)"
   ]
  },
  {
   "cell_type": "code",
   "execution_count": 124,
   "metadata": {},
   "outputs": [
    {
     "data": {
      "text/plain": [
       "array([5.83416667, 3.0825    , 3.70916667, 1.16916667])"
      ]
     },
     "execution_count": 124,
     "metadata": {},
     "output_type": "execute_result"
    }
   ],
   "source": [
    "standardScaler.mean_"
   ]
  },
  {
   "cell_type": "code",
   "execution_count": 125,
   "metadata": {},
   "outputs": [
    {
     "data": {
      "text/plain": [
       "array([0.81019502, 0.44076874, 1.76295187, 0.75429833])"
      ]
     },
     "execution_count": 125,
     "metadata": {},
     "output_type": "execute_result"
    }
   ],
   "source": [
    "standardScaler.scale_"
   ]
  },
  {
   "cell_type": "code",
   "execution_count": 126,
   "metadata": {},
   "outputs": [
    {
     "data": {
      "text/plain": [
       "array([[-0.90616043,  0.94720873, -1.30982967, -1.28485856],\n",
       "       [-1.15301457, -0.18717298, -1.30982967, -1.28485856],\n",
       "       [-0.16559799, -0.64092567,  0.22169257,  0.17345038],\n",
       "       [ 0.45153738,  0.72033239,  0.95909217,  1.49918578],\n",
       "       [-0.90616043, -1.3215547 , -0.40226093, -0.0916967 ],\n",
       "       [ 1.43895396,  0.2665797 ,  0.56203085,  0.30602392],\n",
       "       [ 0.3281103 , -1.09467835,  1.07253826,  0.30602392],\n",
       "       [ 2.1795164 , -0.18717298,  1.63976872,  1.2340387 ],\n",
       "       [-0.78273335,  2.30846679, -1.25310662, -1.4174321 ],\n",
       "       [ 0.45153738, -2.00218372,  0.44858475,  0.43859746],\n",
       "       [ 1.80923518, -0.41404933,  1.46959958,  0.83631808],\n",
       "       [ 0.69839152,  0.2665797 ,  0.90236912,  1.49918578],\n",
       "       [ 0.20468323,  0.72033239,  0.44858475,  0.571171  ],\n",
       "       [-0.78273335, -0.86780201,  0.10824648,  0.30602392],\n",
       "       [-0.53587921,  1.40096142, -1.25310662, -1.28485856],\n",
       "       [-0.65930628,  1.40096142, -1.25310662, -1.28485856],\n",
       "       [-1.0295875 ,  0.94720873, -1.19638358, -0.7545644 ],\n",
       "       [-1.77014994, -0.41404933, -1.30982967, -1.28485856],\n",
       "       [-0.04217092, -0.86780201,  0.10824648,  0.04087684],\n",
       "       [-0.78273335,  0.72033239, -1.30982967, -1.28485856],\n",
       "       [-1.52329579,  0.72033239, -1.30982967, -1.15228502],\n",
       "       [ 0.82181859,  0.2665797 ,  0.78892303,  1.10146516],\n",
       "       [-0.16559799, -0.41404933,  0.27841562,  0.17345038],\n",
       "       [ 0.94524567, -0.18717298,  0.39186171,  0.30602392],\n",
       "       [ 0.20468323, -0.41404933,  0.44858475,  0.43859746],\n",
       "       [-1.39986872,  0.2665797 , -1.19638358, -1.28485856],\n",
       "       [-1.15301457,  0.03970336, -1.25310662, -1.4174321 ],\n",
       "       [ 1.06867274,  0.03970336,  1.07253826,  1.63175932],\n",
       "       [ 0.57496445, -0.86780201,  0.67547694,  0.83631808],\n",
       "       [ 0.3281103 , -0.64092567,  0.56203085,  0.04087684],\n",
       "       [ 0.45153738, -0.64092567,  0.61875389,  0.83631808],\n",
       "       [-0.16559799,  2.98909581, -1.25310662, -1.01971148],\n",
       "       [ 0.57496445, -1.3215547 ,  0.67547694,  0.43859746],\n",
       "       [ 0.69839152, -0.41404933,  0.33513866,  0.17345038],\n",
       "       [-0.90616043,  1.62783776, -1.02621444, -1.01971148],\n",
       "       [ 1.19209981, -0.64092567,  0.61875389,  0.30602392],\n",
       "       [-0.90616043,  0.94720873, -1.30982967, -1.15228502],\n",
       "       [-1.89357701, -0.18717298, -1.47999881, -1.4174321 ],\n",
       "       [ 0.08125616, -0.18717298,  0.78892303,  0.83631808],\n",
       "       [ 0.69839152, -0.64092567,  1.07253826,  1.2340387 ],\n",
       "       [-0.28902506, -0.64092567,  0.67547694,  1.10146516],\n",
       "       [-0.41245214, -1.54843104, -0.00519961, -0.22427024],\n",
       "       [ 1.31552689,  0.03970336,  0.67547694,  0.43859746],\n",
       "       [ 0.57496445,  0.72033239,  1.07253826,  1.63175932],\n",
       "       [ 0.82181859, -0.18717298,  1.18598435,  1.36661224],\n",
       "       [-0.16559799,  1.62783776, -1.13966053, -1.15228502],\n",
       "       [ 0.94524567, -0.41404933,  0.5053078 ,  0.17345038],\n",
       "       [ 1.06867274,  0.49345605,  1.12926131,  1.76433286],\n",
       "       [-1.27644165, -0.18717298, -1.30982967, -1.4174321 ],\n",
       "       [-1.0295875 ,  1.17408507, -1.30982967, -1.28485856],\n",
       "       [ 0.20468323, -0.18717298,  0.61875389,  0.83631808],\n",
       "       [-1.0295875 , -0.18717298, -1.19638358, -1.28485856],\n",
       "       [ 0.3281103 , -0.18717298,  0.67547694,  0.83631808],\n",
       "       [ 0.69839152,  0.03970336,  1.01581521,  0.83631808],\n",
       "       [-0.90616043,  1.40096142, -1.25310662, -1.01971148],\n",
       "       [-0.16559799, -0.18717298,  0.27841562,  0.04087684],\n",
       "       [-1.0295875 ,  0.94720873, -1.36655271, -1.15228502],\n",
       "       [-0.90616043,  1.62783776, -1.25310662, -1.15228502],\n",
       "       [-1.52329579,  0.2665797 , -1.30982967, -1.28485856],\n",
       "       [-0.53587921, -0.18717298,  0.44858475,  0.43859746],\n",
       "       [ 0.82181859, -0.64092567,  0.5053078 ,  0.43859746],\n",
       "       [ 0.3281103 , -0.64092567,  0.16496953,  0.17345038],\n",
       "       [-1.27644165,  0.72033239, -1.19638358, -1.28485856],\n",
       "       [-0.90616043,  0.49345605, -1.13966053, -0.88713794],\n",
       "       [-0.04217092, -0.86780201,  0.78892303,  0.96889162],\n",
       "       [-0.28902506, -0.18717298,  0.22169257,  0.17345038],\n",
       "       [ 0.57496445, -0.64092567,  0.78892303,  0.43859746],\n",
       "       [ 1.06867274,  0.49345605,  1.12926131,  1.2340387 ],\n",
       "       [ 1.68580811, -0.18717298,  1.18598435,  0.571171  ],\n",
       "       [ 1.06867274, -0.18717298,  0.84564608,  1.49918578],\n",
       "       [-1.15301457,  0.03970336, -1.25310662, -1.4174321 ],\n",
       "       [-1.15301457, -1.3215547 ,  0.44858475,  0.70374454],\n",
       "       [-0.16559799, -1.3215547 ,  0.73219998,  1.10146516],\n",
       "       [-1.15301457, -1.54843104, -0.2320918 , -0.22427024],\n",
       "       [-0.41245214, -1.54843104,  0.05152343, -0.0916967 ],\n",
       "       [ 1.06867274, -1.3215547 ,  1.18598435,  0.83631808],\n",
       "       [ 0.82181859, -0.18717298,  1.01581521,  0.83631808],\n",
       "       [-0.16559799, -1.09467835, -0.1186457 , -0.22427024],\n",
       "       [ 0.20468323, -2.00218372,  0.73219998,  0.43859746],\n",
       "       [ 1.06867274,  0.03970336,  0.56203085,  0.43859746],\n",
       "       [-1.15301457,  0.03970336, -1.25310662, -1.4174321 ],\n",
       "       [ 0.57496445, -1.3215547 ,  0.73219998,  0.96889162],\n",
       "       [-1.39986872,  0.2665797 , -1.36655271, -1.28485856],\n",
       "       [ 0.20468323, -0.86780201,  0.78892303,  0.571171  ],\n",
       "       [-0.04217092, -1.09467835,  0.16496953,  0.04087684],\n",
       "       [ 1.31552689,  0.2665797 ,  1.12926131,  1.49918578],\n",
       "       [-1.77014994, -0.18717298, -1.36655271, -1.28485856],\n",
       "       [ 1.56238103, -0.18717298,  1.2427074 ,  1.2340387 ],\n",
       "       [ 1.19209981,  0.2665797 ,  1.2427074 ,  1.49918578],\n",
       "       [-0.78273335,  0.94720873, -1.25310662, -1.28485856],\n",
       "       [ 2.54979762,  1.62783776,  1.52632263,  1.10146516],\n",
       "       [ 0.69839152, -0.64092567,  1.07253826,  1.36661224],\n",
       "       [-0.28902506, -0.41404933, -0.06192266,  0.17345038],\n",
       "       [-0.41245214,  2.53534313, -1.30982967, -1.28485856],\n",
       "       [-1.27644165, -0.18717298, -1.30982967, -1.15228502],\n",
       "       [ 0.57496445, -0.41404933,  1.07253826,  0.83631808],\n",
       "       [-1.77014994,  0.2665797 , -1.36655271, -1.28485856],\n",
       "       [-0.53587921,  1.8547141 , -1.13966053, -1.01971148],\n",
       "       [-1.0295875 ,  0.72033239, -1.19638358, -1.01971148],\n",
       "       [ 1.06867274, -0.18717298,  0.73219998,  0.70374454],\n",
       "       [-0.53587921,  1.8547141 , -1.36655271, -1.01971148],\n",
       "       [ 2.30294347, -0.64092567,  1.69649176,  1.10146516],\n",
       "       [-0.28902506, -0.86780201,  0.27841562,  0.17345038],\n",
       "       [ 1.19209981, -0.18717298,  1.01581521,  1.2340387 ],\n",
       "       [-0.41245214,  0.94720873, -1.36655271, -1.28485856],\n",
       "       [-1.27644165,  0.72033239, -1.02621444, -1.28485856],\n",
       "       [-0.53587921,  0.72033239, -1.13966053, -1.28485856],\n",
       "       [ 2.30294347,  1.62783776,  1.69649176,  1.36661224],\n",
       "       [ 1.31552689,  0.03970336,  0.95909217,  1.2340387 ],\n",
       "       [-0.28902506, -1.3215547 ,  0.10824648, -0.0916967 ],\n",
       "       [-0.90616043,  0.72033239, -1.25310662, -1.28485856],\n",
       "       [-0.90616043,  1.62783776, -1.19638358, -1.28485856],\n",
       "       [ 0.3281103 , -0.41404933,  0.56203085,  0.30602392],\n",
       "       [-0.04217092,  2.08159044, -1.42327576, -1.28485856],\n",
       "       [-1.0295875 , -2.45593641, -0.1186457 , -0.22427024],\n",
       "       [ 0.69839152,  0.2665797 ,  0.44858475,  0.43859746],\n",
       "       [ 0.3281103 , -0.18717298,  0.5053078 ,  0.30602392],\n",
       "       [ 0.08125616,  0.2665797 ,  0.61875389,  0.83631808],\n",
       "       [ 0.20468323, -2.00218372,  0.16496953, -0.22427024],\n",
       "       [ 1.93266225, -0.64092567,  1.35615349,  0.96889162]])"
      ]
     },
     "execution_count": 126,
     "metadata": {},
     "output_type": "execute_result"
    }
   ],
   "source": [
    "X_train = standardScaler.transform(X_train)\n",
    "X_train"
   ]
  },
  {
   "cell_type": "code",
   "execution_count": 127,
   "metadata": {},
   "outputs": [
    {
     "data": {
      "text/plain": [
       "array([[-0.28902506, -0.18717298,  0.44858475,  0.43859746],\n",
       "       [-0.04217092, -0.64092567,  0.78892303,  1.63175932],\n",
       "       [-1.0295875 , -1.77530738, -0.2320918 , -0.22427024],\n",
       "       [-0.04217092, -0.86780201,  0.78892303,  0.96889162],\n",
       "       [-1.52329579,  0.03970336, -1.25310662, -1.28485856],\n",
       "       [-0.41245214, -1.3215547 ,  0.16496953,  0.17345038],\n",
       "       [-0.16559799, -0.64092567,  0.44858475,  0.17345038],\n",
       "       [ 0.82181859, -0.18717298,  0.84564608,  1.10146516],\n",
       "       [ 0.57496445, -1.77530738,  0.39186171,  0.17345038],\n",
       "       [-0.41245214, -1.09467835,  0.39186171,  0.04087684],\n",
       "       [ 1.06867274,  0.03970336,  0.39186171,  0.30602392],\n",
       "       [-1.64672287, -1.77530738, -1.36655271, -1.15228502],\n",
       "       [-1.27644165,  0.03970336, -1.19638358, -1.28485856],\n",
       "       [-0.53587921,  0.72033239, -1.25310662, -1.01971148],\n",
       "       [ 1.68580811,  1.17408507,  1.35615349,  1.76433286],\n",
       "       [-0.04217092, -0.86780201,  0.22169257, -0.22427024],\n",
       "       [-1.52329579,  1.17408507, -1.53672185, -1.28485856],\n",
       "       [ 1.68580811,  0.2665797 ,  1.29943044,  0.83631808],\n",
       "       [ 1.31552689,  0.03970336,  0.78892303,  1.49918578],\n",
       "       [ 0.69839152, -0.86780201,  0.90236912,  0.96889162],\n",
       "       [ 0.57496445,  0.49345605,  0.56203085,  0.571171  ],\n",
       "       [-1.0295875 ,  0.72033239, -1.25310662, -1.28485856],\n",
       "       [ 2.30294347, -1.09467835,  1.80993786,  1.49918578],\n",
       "       [-1.0295875 ,  0.49345605, -1.30982967, -1.28485856],\n",
       "       [ 0.45153738, -0.41404933,  0.33513866,  0.17345038],\n",
       "       [ 0.08125616, -0.18717298,  0.27841562,  0.43859746],\n",
       "       [-1.0295875 ,  0.2665797 , -1.42327576, -1.28485856],\n",
       "       [-0.41245214, -1.77530738,  0.16496953,  0.17345038],\n",
       "       [ 0.57496445,  0.49345605,  1.29943044,  1.76433286],\n",
       "       [ 2.30294347, -0.18717298,  1.35615349,  1.49918578]])"
      ]
     },
     "execution_count": 127,
     "metadata": {},
     "output_type": "execute_result"
    }
   ],
   "source": [
    "X_test_standard = standardScaler.transform(X_test)\n",
    "X_test_standard"
   ]
  },
  {
   "cell_type": "markdown",
   "metadata": {},
   "source": [
    "## 使用归一化后的数据进行模型计算"
   ]
  },
  {
   "cell_type": "code",
   "execution_count": 128,
   "metadata": {},
   "outputs": [
    {
     "data": {
      "text/plain": [
       "KNeighborsClassifier(algorithm='auto', leaf_size=30, metric='minkowski',\n",
       "           metric_params=None, n_jobs=1, n_neighbors=3, p=2,\n",
       "           weights='uniform')"
      ]
     },
     "execution_count": 128,
     "metadata": {},
     "output_type": "execute_result"
    }
   ],
   "source": [
    "from sklearn.neighbors import KNeighborsClassifier\n",
    "knn_clf = KNeighborsClassifier(n_neighbors=3)\n",
    "knn_clf.fit(X_train,y_train)"
   ]
  },
  {
   "cell_type": "code",
   "execution_count": 130,
   "metadata": {},
   "outputs": [
    {
     "data": {
      "text/plain": [
       "1.0"
      ]
     },
     "execution_count": 130,
     "metadata": {},
     "output_type": "execute_result"
    }
   ],
   "source": [
    "knn_clf.score(X_test_standard,y_test)"
   ]
  },
  {
   "cell_type": "markdown",
   "metadata": {},
   "source": [
    "## KNeighborsRegressor 可以用KNN解决回归问题\n",
    "####  可参照文档练习 http://sciki-learn.org/stable/modules/generated/sklearn.neighbors.KNeighborsRegressor.html"
   ]
  },
  {
   "cell_type": "code",
   "execution_count": null,
   "metadata": {},
   "outputs": [],
   "source": []
  }
 ],
 "metadata": {
  "kernelspec": {
   "display_name": "Python 3",
   "language": "python",
   "name": "python3"
  },
  "language_info": {
   "codemirror_mode": {
    "name": "ipython",
    "version": 3
   },
   "file_extension": ".py",
   "mimetype": "text/x-python",
   "name": "python",
   "nbconvert_exporter": "python",
   "pygments_lexer": "ipython3",
   "version": "3.6.5"
  }
 },
 "nbformat": 4,
 "nbformat_minor": 2
}
