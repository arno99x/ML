{
 "cells": [
  {
   "cell_type": "markdown",
   "metadata": {},
   "source": [
    "## KNeighborsRegressor 可以用KNN解决回归问题\n",
    "##### 可参照文档练习 http://sciki-learn.org/stable/modules/generated/sklearn.neighbors.KNeighborsRegressor.html\n"
   ]
  },
  {
   "cell_type": "markdown",
   "metadata": {},
   "source": [
    "## 缺点1 ：KNN最大的缺点是效率低下\n",
    "##### 如果训练集有m个样本，n个特征，则预测每一个新的数据，需要O(m*n)的时间复杂度\n",
    "\n",
    "##### 可以使用树结构来优化KNN算法，KD-Tree , Ball-Tree , 但尽管如此KNN算法依然是效率低下的算法"
   ]
  },
  {
   "cell_type": "markdown",
   "metadata": {},
   "source": [
    "## 缺点2： KNN算法得到的结果是高度数据相关的，对偏离值更加的敏感\n",
    "##### 若对3邻近节点预测中， 其实2个节点偏离了，那足倒致结果不正确"
   ]
  },
  {
   "cell_type": "markdown",
   "metadata": {},
   "source": [
    "## 缺点3： 预测结果不具有可解释性\n",
    "###### 只说明了离哪些结点近就归为邻近节点那类，但仅此而以，没有更多的科学理论"
   ]
  },
  {
   "cell_type": "markdown",
   "metadata": {},
   "source": [
    "## 缺点3：维数灾难\n",
    "##### 随着维度的增加，看似相近的两个节点，其实他们的距离是越来越大的"
   ]
  },
  {
   "cell_type": "code",
   "execution_count": null,
   "metadata": {},
   "outputs": [],
   "source": []
  }
 ],
 "metadata": {
  "kernelspec": {
   "display_name": "Python 3",
   "language": "python",
   "name": "python3"
  },
  "language_info": {
   "codemirror_mode": {
    "name": "ipython",
    "version": 3
   },
   "file_extension": ".py",
   "mimetype": "text/x-python",
   "name": "python",
   "nbconvert_exporter": "python",
   "pygments_lexer": "ipython3",
   "version": "3.6.5"
  }
 },
 "nbformat": 4,
 "nbformat_minor": 2
}
